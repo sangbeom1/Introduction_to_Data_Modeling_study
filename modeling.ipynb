{
 "cells": [
  {
   "cell_type": "markdown",
   "metadata": {},
   "source": [
    "# 회귀분석 예제 - 중고차 가격 구조\n",
    "## 단순회귀분석"
   ]
  },
  {
   "cell_type": "code",
   "execution_count": null,
   "metadata": {},
   "outputs": [],
   "source": [
    "import pandas as pd\n",
    "import numpy as np\n",
    "import statsmodels.api as sm # 통계모형\n",
    "import statsmodels.formula.api as smf\n",
    "import matplotlib.pyplot as plt  # 박스플랏, 산점도\n",
    "usedcar1 = pd.read_csv('usedcar1.csv')\n",
    "usedcar1"
   ]
  },
  {
   "cell_type": "markdown",
   "metadata": {},
   "source": [
    "### 산점도"
   ]
  },
  {
   "cell_type": "code",
   "execution_count": null,
   "metadata": {},
   "outputs": [],
   "source": [
    "plt.scatter(x='Odometer', y='Price', data=usedcar1)\n",
    "plt.title('Scatter Plot')\n",
    "plt.xlabel('Odometer')\n",
    "plt.ylabel('Price')"
   ]
  },
  {
   "cell_type": "markdown",
   "metadata": {},
   "source": [
    "### 선형회귀분석"
   ]
  },
  {
   "cell_type": "code",
   "execution_count": null,
   "metadata": {},
   "outputs": [],
   "source": [
    "usedcar1.lm = smf.ols('Price ~ Odometer', data=usedcar1).fit()\n",
    "usedcar1.lm.summary()"
   ]
  },
  {
   "cell_type": "markdown",
   "metadata": {},
   "source": [
    "### 산점도 (회귀직선 포함)"
   ]
  },
  {
   "cell_type": "code",
   "execution_count": null,
   "metadata": {},
   "outputs": [],
   "source": [
    "plt.scatter(x='Odometer', y='Price', s=5, data=usedcar1)\n",
    "plt.plot(usedcar1['Odometer'], usedcar1.lm.fittedvalues, color='red', linewidth=1)\n",
    "plt.title('Scatter Plot with Regression Line')\n",
    "plt.xlabel('Odometer')\n",
    "plt.ylabel('Price')"
   ]
  },
  {
   "cell_type": "markdown",
   "metadata": {},
   "source": [
    "## X 변수 추가 발굴"
   ]
  },
  {
   "cell_type": "code",
   "execution_count": null,
   "metadata": {},
   "outputs": [],
   "source": [
    "usedcar2 = pd.read_csv('usedcar2.csv')\n",
    "usedcar2"
   ]
  },
  {
   "cell_type": "markdown",
   "metadata": {},
   "source": [
    "### 다중 선형 회귀분석"
   ]
  },
  {
   "cell_type": "code",
   "execution_count": null,
   "metadata": {},
   "outputs": [],
   "source": [
    "usedcar2.lm1 = smf.ols('Price ~ Odometer+Accident+Option+Clean+Height+Temp', data=usedcar2).fit()\n",
    "usedcar2.lm1.summary()"
   ]
  },
  {
   "cell_type": "code",
   "execution_count": null,
   "metadata": {},
   "outputs": [],
   "source": [
    "usedcar2.lm2 = smf.ols('Price ~ Odometer+Accident+Option+Clean+Temp', data=usedcar2).fit()\n",
    "usedcar2.lm2.summary()"
   ]
  },
  {
   "cell_type": "code",
   "execution_count": null,
   "metadata": {},
   "outputs": [],
   "source": [
    "usedcar2.lm3 = smf.ols('Price ~ Odometer+Accident+Option+Clean', data=usedcar2).fit()\n",
    "usedcar2.lm3.summary()"
   ]
  },
  {
   "cell_type": "markdown",
   "metadata": {},
   "source": [
    "### 중고차 가격 예측"
   ]
  },
  {
   "cell_type": "code",
   "execution_count": null,
   "metadata": {},
   "outputs": [],
   "source": [
    "smith = pd.DataFrame([[60000,0,3,2,175,16]],columns=['Odometer','Accident','Option','Clean','Height','Temp'])\n",
    "smith"
   ]
  },
  {
   "cell_type": "code",
   "execution_count": null,
   "metadata": {},
   "outputs": [],
   "source": [
    "usedcar2.lm3.predict(smith)"
   ]
  },
  {
   "cell_type": "markdown",
   "metadata": {},
   "source": [
    "# 로지스틱 회귀분석 예제 - 구매여부 구조\n",
    "## 단순 로지스틱"
   ]
  },
  {
   "cell_type": "code",
   "execution_count": null,
   "metadata": {},
   "outputs": [],
   "source": [
    "direct1 = pd.read_csv('direct1.csv')\n",
    "direct1"
   ]
  },
  {
   "cell_type": "markdown",
   "metadata": {},
   "source": [
    "### 결측치 확인"
   ]
  },
  {
   "cell_type": "code",
   "execution_count": null,
   "metadata": {},
   "outputs": [],
   "source": [
    "direct1.isnull().sum() # pd.isnull(direct1)"
   ]
  },
  {
   "cell_type": "markdown",
   "metadata": {},
   "source": [
    "### 결측치 제거"
   ]
  },
  {
   "cell_type": "code",
   "execution_count": null,
   "metadata": {},
   "outputs": [],
   "source": [
    "direct1 = direct1.dropna()"
   ]
  },
  {
   "cell_type": "markdown",
   "metadata": {},
   "source": [
    "### 구매자/비구매자 인원수"
   ]
  },
  {
   "cell_type": "code",
   "execution_count": null,
   "metadata": {},
   "outputs": [],
   "source": [
    "direct1['Buy'].value_counts()"
   ]
  },
  {
   "cell_type": "markdown",
   "metadata": {},
   "source": [
    "### 구매자/비구매자 연령별 차이"
   ]
  },
  {
   "cell_type": "code",
   "execution_count": null,
   "metadata": {},
   "outputs": [],
   "source": [
    "import seaborn as sns\n",
    "sns.boxplot(x=\"Buy\", y=\"Age\", data=direct1)"
   ]
  },
  {
   "cell_type": "code",
   "execution_count": null,
   "metadata": {},
   "outputs": [],
   "source": [
    "buy_0 = direct1['Age'].loc[direct1['Buy'] == 0]\n",
    "buy_1 = direct1['Age'].loc[direct1['Buy'] == 1]\n",
    "plt.hist(buy_0, alpha = 0.5)\n",
    "plt.hist(buy_1, alpha = 0.5)"
   ]
  },
  {
   "cell_type": "markdown",
   "metadata": {},
   "source": [
    "### 로지스틱 회귀분석"
   ]
  },
  {
   "cell_type": "code",
   "execution_count": null,
   "metadata": {},
   "outputs": [],
   "source": [
    "direct1.logit = smf.glm('Buy ~ Age', data=direct1, family=sm.families.Binomial()).fit()\n",
    "direct1.logit.summary()"
   ]
  },
  {
   "cell_type": "markdown",
   "metadata": {},
   "source": [
    "### 시그모이드 함수 그래프"
   ]
  },
  {
   "cell_type": "code",
   "execution_count": null,
   "metadata": {},
   "outputs": [],
   "source": [
    "direct1.logit.fittedvalues"
   ]
  },
  {
   "cell_type": "code",
   "execution_count": null,
   "metadata": {},
   "outputs": [],
   "source": [
    "plt.scatter(direct1['Age'],direct1.logit.fittedvalues)\n",
    "grid = pd.DataFrame(np.linspace(-190,190,1000),columns=['Age'])\n",
    "prob = direct1.logit.predict(grid)\n",
    "plt.plot(grid, prob,'-', color = 'r')\n",
    "plt.xlabel('Age')\n",
    "plt.ylabel('Probability')"
   ]
  },
  {
   "cell_type": "markdown",
   "metadata": {},
   "source": [
    "### AUC 계산"
   ]
  },
  {
   "cell_type": "code",
   "execution_count": null,
   "metadata": {},
   "outputs": [],
   "source": [
    "from sklearn.metrics import roc_auc_score\n",
    "roc_auc = roc_auc_score(direct1['Buy'], direct1.logit.fittedvalues)\n",
    "roc_auc"
   ]
  },
  {
   "cell_type": "markdown",
   "metadata": {},
   "source": [
    "## X변수 추가 발굴"
   ]
  },
  {
   "cell_type": "code",
   "execution_count": null,
   "metadata": {},
   "outputs": [],
   "source": [
    "direct2 = pd.read_csv('direct2.csv')\n",
    "direct2"
   ]
  },
  {
   "cell_type": "code",
   "execution_count": null,
   "metadata": {},
   "outputs": [],
   "source": [
    "direct2.isnull().sum()"
   ]
  },
  {
   "cell_type": "code",
   "execution_count": null,
   "metadata": {},
   "outputs": [],
   "source": [
    "direct2 = direct2.dropna()\n",
    "direct2.shape"
   ]
  },
  {
   "cell_type": "markdown",
   "metadata": {},
   "source": [
    "### 다중 로지스틱 회귀분석"
   ]
  },
  {
   "cell_type": "code",
   "execution_count": null,
   "metadata": {},
   "outputs": [],
   "source": [
    "direct2.logit1 = smf.glm('Buy ~ Age+Gender+Married+Children+Income+Ccard+Recent+Climate+Urban',\n",
    "                         data=direct2, family=sm.families.Binomial()).fit()\n",
    "direct2.logit1.summary()"
   ]
  },
  {
   "cell_type": "code",
   "execution_count": null,
   "metadata": {},
   "outputs": [],
   "source": [
    "direct2.logit2 = smf.glm('Buy ~ Age+Gender+Married+Children+Income+Ccard+Recent+Urban',\n",
    "                         data=direct2, family=sm.families.Binomial()).fit()\n",
    "direct2.logit2.summary()"
   ]
  },
  {
   "cell_type": "code",
   "execution_count": null,
   "metadata": {},
   "outputs": [],
   "source": [
    "direct2.logit3 = smf.glm('Buy ~ Age+Gender+Married+Children+Income+Recent+Urban',\n",
    "                         data=direct2, family=sm.families.Binomial()).fit()\n",
    "direct2.logit3.summary()"
   ]
  },
  {
   "cell_type": "markdown",
   "metadata": {},
   "source": [
    "### AUC 계산"
   ]
  },
  {
   "cell_type": "code",
   "execution_count": null,
   "metadata": {},
   "outputs": [],
   "source": [
    "roc_auc = roc_auc_score(direct2['Buy'], direct2.logit3.fittedvalues)\n",
    "roc_auc"
   ]
  },
  {
   "cell_type": "markdown",
   "metadata": {},
   "source": [
    "### 기울기 해석"
   ]
  },
  {
   "cell_type": "code",
   "execution_count": null,
   "metadata": {},
   "outputs": [],
   "source": [
    "np.exp(-0.061)"
   ]
  },
  {
   "cell_type": "code",
   "execution_count": null,
   "metadata": {},
   "outputs": [],
   "source": [
    "np.exp(direct2.logit3.params)"
   ]
  },
  {
   "cell_type": "code",
   "execution_count": null,
   "metadata": {},
   "outputs": [],
   "source": [
    "np.exp(0.0021*100)"
   ]
  },
  {
   "cell_type": "markdown",
   "metadata": {},
   "source": [
    "### 구매확률 계산"
   ]
  },
  {
   "cell_type": "code",
   "execution_count": null,
   "metadata": {},
   "outputs": [],
   "source": [
    "smith = [35, 1, 1, 1, 500, 1, 1] \n",
    "johnson = [36, 0, 1, 2, 550, 0, 0]\n",
    "people = pd.DataFrame([smith, johnson],columns=['Age','Gender','Married','Children','Income','Recent','Urban'])\n",
    "people"
   ]
  },
  {
   "cell_type": "code",
   "execution_count": null,
   "metadata": {},
   "outputs": [],
   "source": [
    "direct2.logit3.predict(people)"
   ]
  },
  {
   "cell_type": "code",
   "execution_count": null,
   "metadata": {},
   "outputs": [],
   "source": [
    "direct2['Buy'].value_counts() / len(direct2)"
   ]
  },
  {
   "cell_type": "code",
   "execution_count": null,
   "metadata": {},
   "outputs": [],
   "source": []
  }
 ],
 "metadata": {
  "kernelspec": {
   "display_name": "Python 3",
   "language": "python",
   "name": "python3"
  },
  "language_info": {
   "codemirror_mode": {
    "name": "ipython",
    "version": 3
   },
   "file_extension": ".py",
   "mimetype": "text/x-python",
   "name": "python",
   "nbconvert_exporter": "python",
   "pygments_lexer": "ipython3",
   "version": "3.7.3"
  }
 },
 "nbformat": 4,
 "nbformat_minor": 4
}
